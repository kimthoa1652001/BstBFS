{
  "nbformat": 4,
  "nbformat_minor": 0,
  "metadata": {
    "colab": {
      "name": "Bản sao của BStBFs",
      "provenance": [],
      "collapsed_sections": [],
      "include_colab_link": true
    },
    "kernelspec": {
      "display_name": "Python 3",
      "name": "python3"
    }
  },
  "cells": [
    {
      "cell_type": "markdown",
      "metadata": {
        "id": "view-in-github",
        "colab_type": "text"
      },
      "source": [
        "<a href=\"https://colab.research.google.com/github/kimthoa1652001/CS114.L22.KHCL/blob/main/BStBFs.ipynb\" target=\"_parent\"><img src=\"https://colab.research.google.com/assets/colab-badge.svg\" alt=\"Open In Colab\"/></a>"
      ]
    },
    {
      "cell_type": "code",
      "metadata": {
        "id": "DUgAmtjg5QNb",
        "colab": {
          "base_uri": "https://localhost:8080/"
        },
        "outputId": "019e4e11-0c62-4ab3-ba78-513c446f715e"
      },
      "source": [
        "from queue import Queue\n",
        "class Node:\n",
        "    def __init__(self,data):\n",
        "        self.left_child= None\n",
        "        self.right_child=None\n",
        "        self.val=data\n",
        "def insert(root,data_number):\n",
        "      if root is None:\n",
        "        return Node(data_number)\n",
        "      else:  \n",
        "        if root.val==data_number:\n",
        "            return root\n",
        "        elif root.val<data_number:\n",
        "            root.right_child=insert(root.right_child,data_number)\n",
        "        else:\n",
        "            root.left_child=insert(root.left_child,data_number)\n",
        "      return root\n",
        "def printvalue(root):\n",
        "  if (root==None):\n",
        "     return\n",
        "  q=Queue()\n",
        "  q.put(root)\n",
        "  while (q.empty()!=True):\n",
        "    current=q.get()\n",
        "    print(current.val,' ',end='')\n",
        "    if (current.left_child!= None):\n",
        "      q.put(current.left_child)\n",
        "    if (current.right_child!=None):\n",
        "      q.put(current.right_child)\n",
        "root=None\n",
        "while True:\n",
        "  x=int(input())\n",
        "  if x==0 :\n",
        "    break\n",
        "  else:\n",
        "    root=insert(root,x)  \n",
        "printvalue(root)\n",
        "\n",
        "\n",
        "\n"
      ],
      "execution_count": 9,
      "outputs": [
        {
          "output_type": "stream",
          "text": [
            "393\n",
            "981\n",
            "841\n",
            "133\n",
            "891\n",
            "133\n",
            "891\n",
            "739\n",
            "663\n",
            "119\n",
            "497\n",
            "865\n",
            "54\n",
            "631\n",
            "561\n",
            "51\n",
            "227\n",
            "841\n",
            "352\n",
            "996\n",
            "505\n",
            "0\n",
            "393  133  981  119  227  841  996  54  352  739  891  51  663  865  497  631  561  505  "
          ],
          "name": "stdout"
        }
      ]
    }
  ]
}